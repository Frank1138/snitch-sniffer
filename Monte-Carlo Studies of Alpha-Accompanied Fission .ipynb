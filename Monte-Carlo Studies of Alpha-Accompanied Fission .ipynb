{
 "cells": [
  {
   "cell_type": "code",
   "execution_count": 1,
   "metadata": {},
   "outputs": [
    {
     "name": "stdout",
     "output_type": "stream",
     "text": [
      "Populating the interactive namespace from numpy and matplotlib\n",
      "Populating the interactive namespace from numpy and matplotlib\n"
     ]
    }
   ],
   "source": [
    "%pylab inline\n",
    "%pylab notebook \n",
    "import numpy as np\n",
    "import matplotlib.pyplot as plt\n",
    "from scipy.special import erfinv\n",
    "from math import pow"
   ]
  },
  {
   "cell_type": "code",
   "execution_count": 2,
   "metadata": {
    "collapsed": true
   },
   "outputs": [],
   "source": [
    "\"\"\"This program calculates ternary fission of U236 excited by the interaction with a neutron. \n",
    "Starting values of fissioning system are given below\"\"\"\n",
    "As = 236 #amu, for U-236\n",
    "Zs = 92, #charge of U-236"
   ]
  },
  {
   "cell_type": "code",
   "execution_count": 3,
   "metadata": {
    "collapsed": true
   },
   "outputs": [],
   "source": [
    "#Now, we proceed by selecting the mass of the light fragment from a Gaussian distribution \n",
    "def getLightmass(aveML,sigML):\n",
    "    #mu, sigma = 0, 0.1\n",
    "    #s = np.random(mu, sigma, 1000)\n",
    "    \"\"\"This will sample the mass of the light fragment from a Gaussian\n",
    "    distribution, with an average value of aveML and a standard deviation\n",
    "    of sigML. The average value will be obtained from a source yet TBD.\"\"\"\n",
    "    mL = 238.3 #amu, this is just a place holder value, subject to change\n",
    "    return mL #this will return the final value from our Gaussian distribution"
   ]
  },
  {
   "cell_type": "code",
   "execution_count": 4,
   "metadata": {
    "collapsed": true
   },
   "outputs": [],
   "source": [
    "#In this step we seek to compute the value of ZL, ZH, and AH. \n",
    "\n",
    "Za = 2 #charge of alpha particle\n",
    "#actA = Actinide A\n",
    "def charges(mL,actA):\n",
    "    \"\"\"We shall define the charge of the heavy, light and alpha fragments as\n",
    "    ZH, ZL, and Za, respectively. The mass of mL shall be converted from \n",
    "    MeV to amu.\"\"\"\n",
    "    mL_mev = mL    \n",
    "    \"\"\"Use value of AL to compute ZL, ZH, and AH, assuming an equal mass charge\n",
    "    distribution, ZL/AL = ZH/AH.\"\"\"\n",
    "    return ZL, ZH, AH, AL"
   ]
  },
  {
   "cell_type": "code",
   "execution_count": 5,
   "metadata": {
    "collapsed": true
   },
   "outputs": [],
   "source": [
    "#Compute energy available for three particles by using published numbers for TKE of binary fission. \n",
    "def energies(EKBinfty, EKBsciss, EKTinfty, DeltaE, EKTsciss, Ealpha_infty):\n",
    "    \"\"\"We use published numbers for the TKE of binary fission minus typical energy of LRA\n",
    "    in order to figure out how much each fragment can have.\"\"\"\n",
    "    return EH, EL, Ea"
   ]
  },
  {
   "cell_type": "code",
   "execution_count": 6,
   "metadata": {
    "collapsed": true
   },
   "outputs": [],
   "source": [
    "#Now, we seek to find distance d of electrostatic saddle point \n",
    "def saddle_d(ZL,ZH):\n",
    "    \"\"\"This function will allow us to calculate the distance d of the electrostatic saddle \n",
    "    point between the alpha and light fragments.\"\"\"\n",
    "    d = D/(np.sqrt(ZH/ZL)+1)\n",
    "    return dD"
   ]
  },
  {
   "cell_type": "code",
   "execution_count": 7,
   "metadata": {
    "collapsed": true
   },
   "outputs": [],
   "source": [
    "#Here, we now use a guess value for mean alpha KE in order to calculate average value of d and D\n",
    "\n",
    "#def separation_D(EKBinfty, EKBsciss, EKTinfty, DeltaE, EKTsciss, Ealpha_infty, ZL, ZH, Za):\n",
    "#    \"\"\"For this step, we shall use an average value for the \n",
    "#    KE of the alpha particle at infinity\"\"\"\n",
    "#    return avgD, avgd\n",
    "\n",
    "def separation_D(EKTinfty, Easciss, EKTsciss, Ealpha_infty, ZL, ZH, Za):\n",
    "    \"\"\"For this step, we shall use an average value for the \n",
    "    KE of the alpha particle at infinity\"\"\"\n",
    "    return avgD, avgd"
   ]
  },
  {
   "cell_type": "code",
   "execution_count": 8,
   "metadata": {
    "collapsed": true
   },
   "outputs": [],
   "source": [
    "#Fluctuation in separation distance D, with an STD of 1 fm. \n",
    "\n",
    "def fluctuation_D(sigD,D,D0):\n",
    "    \"\"\"This will calculate the uncertainty in the separation distance D by\n",
    "    sampling random variables D from a Gaussian distribution\"\"\"\n",
    "    P_D0 = 1/(np.sqrt(2*np.pi)*sigD)*np.exp(-(D-D0)**2/2*sigD**2)\n",
    "    return P_D0\n",
    "\n",
    "\"\"\"Furthermore, using the value of D0 found in previous block, we are to\n",
    "define a new random varuiable xi between 0 and 1, \"\"\"\n",
    "\n",
    "def D_xi(sigD,D0,xi_D):\n",
    "    \"\"\"Here, we first define the random variable xi_D \n",
    "    (TBD at a later time), and then use xi to define D_xi\"\"\"\n",
    "    D_xi = np.sqrt(2)*sigD*erfinv(2*xi_D-1)\n",
    "    D = D0 + D_xi\n",
    "    return D\n",
    "\n",
    "\"\"\"Likewise, as for the distance d of the electrostatic saddle point, its uncertainty is given by \n",
    "sampling d from a gaussian distribution and applying the same xi technique to it.\"\"\"\n",
    "\n",
    "def fluctuation_d(sig_px,d,d0):\n",
    "    P_d0 = 1/(np.sqrt(2*np.pi)*sig_px)*np.exp(-(d-d0)**2/2*sig_px**2)\n",
    "    return P_d0\n",
    "\n",
    "#Now, as for d_xi, we have the following \n",
    "\n",
    "def d_xi(sig_px,d0,xid):\n",
    "    d_xi = np.sqrt(2)*sig_px*erfinv(2*xid-1)\n",
    "    d = d0 + d_xi\n",
    "    return d"
   ]
  },
  {
   "cell_type": "code",
   "execution_count": 9,
   "metadata": {
    "collapsed": true
   },
   "outputs": [],
   "source": [
    "#For this step, we now want to compute the uncertainty along the primed axis where the alpha particle is. \n",
    "\n",
    "\"\"\"Using the function we defined for the uncertainty in the distance d, we can find the\n",
    "uncertainty along y' and z' by defining different xi random variables for each axis\n",
    "and then defining functions which can allow us to figure out the distance Rc.\"\"\"\n",
    "\n",
    "def yprime(sig_py,d0,yid):\n",
    "    d_yi = np.sqrt(2)*sig_py*erfinv(2*yid-1)\n",
    "    d = d0 + d_yi\n",
    "    return yprimes\n",
    "\n",
    "def zprime(sig_pz,d0,zid):\n",
    "    d_zi = np.sqrt(2)*sig_pz*erfinv(2*zid-1)\n",
    "    d = d0 + d_zi\n",
    "    return zprimes\n",
    "\n",
    "#We now proceed to compute Rc, distance between x' and alpha particle fragment.\n",
    "\n",
    "def Rc(d_yi,d_zi):\n",
    "    R_c = np.sqrt(d_yi**2 + d_zi**2)\n",
    "    return R_c"
   ]
  },
  {
   "cell_type": "code",
   "execution_count": 10,
   "metadata": {
    "collapsed": true
   },
   "outputs": [],
   "source": [
    "#We now proceed to impose the Heisenberg uncertainty principle in order to constraint the alpha configuration.\n",
    "\n",
    "\"\"\"First, we define the standard deviation of the momentum components along the x and y prime axes.\"\"\"\n",
    "h = 6.626e-34 #Js, Planck's constant \n",
    "sig_prx = 0.93 #fm\n",
    "sig_pry = 1.3 #fm\n",
    "sig_prz = sig_pry\n",
    "\n",
    "def std_pxy(sig_px, sig_py):\n",
    "    sigpx = h/(2*sig_px)\n",
    "    sigpy = h/(2*sig_py)\n",
    "    return sigpx and sigpy \n",
    "\n",
    "def prob_p(sig_px, sig_py, px, py, pz):\n",
    "    \"\"\"This is our imposition of the uncertainty principle on the initial momentum of the alpha particle\"\"\"\n",
    "    P = (1/((2*pi)**(2/3)*sig_px*sig_py**2))*np.exp(-((px**2/2*sig_px**2)+(py**2+pz**2/2*sig_py**2)))\n",
    "    return P"
   ]
  },
  {
   "cell_type": "code",
   "execution_count": 11,
   "metadata": {},
   "outputs": [
    {
     "name": "stdout",
     "output_type": "stream",
     "text": [
      "0.00907803546245 Initial velocity of heavy fragment, c\n",
      "0.0143013499427 Initial velocity of light fragment, c\n"
     ]
    }
   ],
   "source": [
    "#For now, we are going to test whether or not our COM yields the desired velocities of each fission fragment. \n",
    "\n",
    "amu = 931.494095 #MeV/c^2\n",
    "M = 18.1 #MeV\n",
    "mH = 137*amu\n",
    "mL = 95*amu\n",
    "\n",
    "def VH(M, mH, mL):\n",
    "    VH0 = 2*mL*M/(mH*(mH + 2*mL))\n",
    "    return VH0\n",
    "\n",
    "VHo = VH(M, mH, mL)\n",
    "print((np.sqrt(VHo)), 'Initial velocity of heavy fragment, c')\n",
    "\n",
    "#Now, we try to figure out the speed of the light fragment by using energy arguments\n",
    "\n",
    "def VL(M, mH, mL, VHo):\n",
    "    VL0 = (M-mH*VHo**2)/mL\n",
    "    return VL0\n",
    "\n",
    "VLo = VL(M, mH, mL, VHo)\n",
    "print((np.sqrt(VLo)), 'Initial velocity of light fragment, c')"
   ]
  },
  {
   "cell_type": "code",
   "execution_count": 12,
   "metadata": {
    "collapsed": true
   },
   "outputs": [],
   "source": [
    "\"\"\"We now define a function which allows us to find the \n",
    "radius inherent to the heavy and light fission fragments.\"\"\"\n",
    "\n",
    "r0 = 1.25 #fm \n",
    "\n",
    "def RH(AH):\n",
    "    R_H = r0*AH**(1/3)\n",
    "    return R_H\n",
    "\n",
    "def RL(AL):\n",
    "    R_L = r0*AL**(1/3)\n",
    "    return R_L"
   ]
  },
  {
   "cell_type": "code",
   "execution_count": 13,
   "metadata": {
    "collapsed": true
   },
   "outputs": [],
   "source": [
    "\"\"\"We now define the parameters needed to solve our differential equations \n",
    "describing the motion of the light and alpha fragments.\"\"\"\n",
    "\n",
    "def parameters(RL, RH, VL0, VH0):\n",
    "    R0 = (RL+RH)/2 #R0, average of radii of two fragments\n",
    "    V0 = (VL0+VH0)/2 #V0, average of the speed of light and heavy fragments before the interaction \n",
    "    T0 = R0/V0\n",
    "    return R0, V0, T0"
   ]
  },
  {
   "cell_type": "code",
   "execution_count": 14,
   "metadata": {
    "collapsed": true
   },
   "outputs": [],
   "source": [
    "\"\"\"Now, by using Table 1 present in Radi, we can compute the \n",
    "initial positions and velocities of each particle fragment in\n",
    "the CM frame. We choose velocity of alpha fragment from Gaussian.\"\"\"\n",
    "\n",
    "\n",
    "\"\"\"Furthermore, we wish to constraint the velocities of the light\n",
    "and heavy fragments so as to constraint the momentum of the system\n",
    "to zero with respect to the center of mass frame.\"\"\"\n",
    "\n",
    "def alphaGauss(mu, sigma):\n",
    "    vxa = 1 #here we use dummy values for our alpha velocity components\n",
    "    vya = 2\n",
    "    vza = 3\n",
    "    return vxa, vya, vza #this function will return a random value for va\n",
    "\n",
    "\n",
    "\"\"\"Table 1, for our viewing pleasure. We assume that there is no\n",
    "motion along the z-axis.\"\"\"\n",
    "\n",
    "def totmass(mL, mH, ma):\n",
    "    M = mL + mH + ma #total mass of fission fragments\n",
    "    mLH = mL + mH #total mass of L and H fragments\n",
    "    return M, mLH\n",
    "\n",
    "def deltx(mH, mLH, d, D):\n",
    "    dx = d - (mH/mLH)*D #delta x for each particle position\n",
    "    return dx\n",
    "\n",
    "def deltV(VL0, VH0, vxa, mL, mH, ma, mLH):\n",
    "    dV = (mL*VL0 - mH*VH0 + ma*vxa)/mLH #delta V for each particle velocity\n",
    "    return dV\n",
    "\n",
    "def xLHa(ma, M, dx, mH, D, mLH, d):\n",
    "    xL = (ma/M)*dx + (mH/M)*D\n",
    "    xH = -(mLH/M)*dx - D + d\n",
    "    xa = -(mLH/M)*dx\n",
    "    return xL, xH, xa\n",
    "\n",
    "def yHa(ma, M, R_c, mLH):\n",
    "    yH = -(ma/M)*R_c\n",
    "    ya = (mLH/M)*R_c\n",
    "    return yH, ya\n",
    "\n",
    "\"\"\"As you can observe for the function yHa above, we did not\n",
    "include a parameter for the yL position. This position is to be\n",
    "chosen randomly from a Gaussian distribution.\"\"\"\n",
    "\n",
    "def velL(mu1, sigma1):\n",
    "    vyL = 1\n",
    "    vzL = 1\n",
    "    return vyL, vzL\n",
    "\n",
    "def vxLHa(vL0, vH0, dV, vxa):\n",
    "    vLx = vL0 - dV\n",
    "    vHx = vH0 - dV\n",
    "    vax = vxa\n",
    "    return vLx, vHx, vax\n",
    "\n",
    "def vyLHa(ma, mLH, vya, vyL):\n",
    "    vLy = -(ma/mLH)*vya\n",
    "    vHy = vyL\n",
    "    vay = vya\n",
    "    return vLy, vHy, vay\n",
    "\n",
    "def vzLHa(ma, mLH, vzL, vza):\n",
    "    vLz = -(ma/mLH)*vza\n",
    "    vHz = vzL\n",
    "    vaz = vza\n",
    "    return vLz, vHz, vaz\n",
    "\n"
   ]
  },
  {
   "cell_type": "code",
   "execution_count": 61,
   "metadata": {},
   "outputs": [
    {
     "name": "stdout",
     "output_type": "stream",
     "text": [
      "[  0.00000000e+00   0.00000000e+00  -1.11022302e-16]\n",
      "[  0.00000000e+00   1.11022302e-16   0.00000000e+00]\n",
      "[ 0.  0.  0.]\n"
     ]
    }
   ],
   "source": [
    "\"\"\"Here, we shall try to restrict the velocity component of each\n",
    "fission fragment such that the momentum is kept at zero in the cm\n",
    "frame.\"\"\"\n",
    "\n",
    "def momenta_alpha(ma, vax, vay, vaz):\n",
    "    pa = ma*vax + ma*vay + ma*vaz\n",
    "    return pa\n",
    "\n",
    "def momenta_H(mH, vHx, vHy, vHz):\n",
    "    pH = mH*vHx + mH*vHy + mH*vHz\n",
    "    return pH\n",
    "\n",
    "def momenta_L(mL, vLx, vLy, vLz):\n",
    "    pL = mL*vLx + mL*vLy + mL*vLz\n",
    "    return pL\n",
    "\n",
    "##############################################\n",
    "\n",
    "def totmomentum_cm(pa, pH, pL):\n",
    "    p_tot = pa + pH + pL\n",
    "    return p_tot\n",
    "\n",
    "#def momentum_a(pxa, pya, pza):\n",
    "#    com_a = pxa + pya + pza #first, we define the momentum components of each fission fragment, separately. \n",
    "#    return com_a #this is the total momentum of the alpha particle defined in the momenta_alpha function, pa.\n",
    "\n",
    "#def momentum_H(pHx, pHy, pHz):\n",
    "#    com_H = pHx + pHy + pHz\n",
    "#    return com_H\n",
    "\n",
    "#def momentum_L(pLx, pLy, pLz):\n",
    "#    com_L = pLx + pLy + pLz\n",
    "#    return com_L\n",
    "#pa = 1\n",
    "#pH = 2\n",
    "#pL = 3\n",
    "\n",
    "\n",
    "\n",
    "def com_momentum(pa, pH, pL):\n",
    "    cmp = pa + pH + pL\n",
    "    return cmp \n",
    "       \n",
    "while True:      \n",
    "    #prompt user for momentum values for a, L, H fragments\n",
    "    #pa = float(input())\n",
    "    #pH = float(input())\n",
    "    #pL = float(input())\n",
    "    pL = np.array([np.random.rand() for _ in range(3)])\n",
    "    pa = np.array([np.random.rand() for _ in range(3)])\n",
    "    pH = -(pa + pL)\n",
    "    #pa = np.array([np.random.rand() for _ in range(3)])\n",
    "    cmp = pa + pH + pL\n",
    "    print(cmp) \n",
    "    #print(pL)\n",
    "    #print(pH)\n",
    "    if np.all(pa + pH + pL == 0):\n",
    "        break\n",
    "            \n",
    "        \n",
    "#if cmp==0:\n",
    "#    return True\n",
    "#if cmp<0:\n",
    "#   return False\n",
    "#if cmp>0:\n",
    "#    return False\n"
   ]
  },
  {
   "cell_type": "code",
   "execution_count": null,
   "metadata": {
    "collapsed": true
   },
   "outputs": [],
   "source": [
    "com_momentum(0,0,0)"
   ]
  },
  {
   "cell_type": "code",
   "execution_count": null,
   "metadata": {
    "collapsed": true
   },
   "outputs": [],
   "source": []
  },
  {
   "cell_type": "code",
   "execution_count": 162,
   "metadata": {
    "collapsed": true
   },
   "outputs": [],
   "source": [
    "\"\"\"Now, we proceed to define the parameters needed in order to solve our DE's.\n",
    "In addition, recall that the DE's to be solved only define the a and L fragments.\"\"\"\n",
    "\n",
    "def Ax1(R0, xL, xa):\n",
    "    Ax = (1/R0)*(xL-xa)\n",
    "    return Ax\n",
    "\n",
    "def Ay1(R0, yL, ya):\n",
    "    Ay = (1/R0)*(yL-ya)\n",
    "    return Ay\n",
    "\n",
    "def Az1(R0, zL, za):\n",
    "    Az = (1/R0)*(zL-za) #irrelevant since in our com frame, the z coordinate is 0 for each fission fragment. \n",
    "    return Az\n",
    "\n",
    "def A1(Ax, Ay, Az):\n",
    "    A = (np.sqrt(Ax**2 + Ay**2 + Az**2))**3\n",
    "    return A\n",
    "\n",
    "#Now, let us define the B parameters in a similar manner\n",
    "\n",
    "def Bx1(mL, mH, ma, R0, xL, xa):\n",
    "    Bx = (1+mL/mH)*(xL/R0)+(ma/mH)*(xa/R0)\n",
    "    return Bx\n",
    "\n",
    "def By1(mL, mH, ma, R0, xL, xa):\n",
    "    By = (1+mL/mH)*(yL/R0)+(ma/mH)*(ya/R0)\n",
    "    return By\n",
    "\n",
    "def Bz1(mL, mH, ma, R0, xL, xa):\n",
    "    Bz = (1+mL/mH)*(zL/R0)+(ma/mH)*(za/R0)\n",
    "    return Bz\n",
    "\n",
    "def B1(Bx, By, Bz):\n",
    "    B = (np.sqrt(Bx**2 + By**2 + Bz**2))**3\n",
    "    return B\n",
    "\n",
    "\n",
    "#Lastly, define C as follows \n",
    "\n",
    "\n",
    "def Cx1(mL, mH, R0, ma, xL, xa):\n",
    "    Cx = (mL/mH)*(xL/R0)+(1+ma/mL)*(xa/R0)\n",
    "    return Cx\n",
    "\n",
    "def Cy1(mL, mH, R0, ma, yL, ya):\n",
    "    Cy = (mL/mH)*(yL/R0)+(1+ma/mL)*(ya/R0)\n",
    "    return Cy\n",
    "\n",
    "def Cz1(mL, mH, R0, ma, zL, za):\n",
    "    Cz = (mL/mH)*(zL/R0)+(1+ma/mL)*(za/R0)\n",
    "    return Cz\n",
    "\n",
    "def C1(Cx, Cy, Cz):\n",
    "    C = (np.sqrt(Cx**2 + Cy**2 + Cz**2))**3\n",
    "    return C"
   ]
  },
  {
   "cell_type": "code",
   "execution_count": 203,
   "metadata": {
    "collapsed": true
   },
   "outputs": [],
   "source": [
    "\"\"\"Since we have now defined a way to obtain a numerical value for \n",
    "the initial velocities of the fragments, and the initial parameters\n",
    "defining our differential equations of motion, we can now set up our\n",
    "equations solver.\"\"\"\n",
    "\n",
    "def beta0(V0):\n",
    "    B0 = V0/c\n",
    "    return B0\n",
    "\n",
    "\n",
    "def diffeqsolverxvL(ZL, mL, R0, B0, A, Ax, Ay, Az, ZH, B, Bx, By, Bz):\n",
    "    return xL, yL, zL, vxL, vyL, vzL\n",
    "\n",
    "\n",
    "def diffeqsolverxva(Za, ma, R0, B0, A, Ax, Ay, Az, ZL, C, Cx, Cy, Cz):\n",
    "    return xa, ya, za, vxa, vya, vza\n"
   ]
  },
  {
   "cell_type": "code",
   "execution_count": 223,
   "metadata": {
    "collapsed": true
   },
   "outputs": [],
   "source": [
    "def mainprogram(aveML, sigML, actA):\n",
    "    mL = getLightmass(aveML, sigML)\n",
    "    ZL, AL, ZH, AH = charges(mL, actA)\n",
    "    EH, EL, Ea = energies(EKBinfty, EKBsciss, EKTinfty, DeltaE, EKTsciss, Ealpha_infty)\n",
    "    D0, d0 = separation_D(ZL, ZH)\n",
    "    avgD, avgd = separation_D(EKTinfty, Easciss, EKTsciss, Ealpha_infty, ZL, ZH, Za)\n",
    "    P_D0 = fluctuation_D(sigD, D, D0)\n",
    "    D = D_xi(sigD, D0, xi_D)\n",
    "    P_d0 = fluctuation_d(sig_px, d, d0)\n",
    "    d = d_xi(sig_px, d0, xid)\n",
    "    yprimes = yprime(sig_py, d0, yid)\n",
    "    zprimes = zprime(sig_pz, d0, zid)\n",
    "    R_c = Rc(d_yi, d_zi)\n",
    "    sigpx, sigpy = std_pxy(sig_px, sig_py)\n",
    "    P = prob_p(sig_px, sig_py, px, py, pz)\n",
    "    VH0 = VH(M, mH, mL)\n",
    "    VL0 = VL(M, mH, mL, VHo)\n",
    "    R_H = RH(AH)\n",
    "    R_L = RL(AL)\n",
    "    R0, V0, T0 = parameters(RL, RH, VL0, VH0)\n",
    "    M, mLH = totmass(mL, mH, ma)\n",
    "    dx = deltx(mH, mLH, d, D)\n",
    "    dV = deltV(VL0, VH0, vxa, mL, mH, ma, mLH)\n",
    "    xL, xH, xa = xLHa(ma, M, dx, mH, D, mLH, d)\n",
    "    yH, ya = yHa(ma, M, R_c, mLH)\n",
    "    vyL, vzL = velL(mu1, sigma1)\n",
    "    vLx, vHx, vax = vxLHa(vL0, vH0, dV, vxa)\n",
    "    vLy, vHy, vay = vyLHa(ma, mLH, vya, vyL)\n",
    "    vLz, vHz, vaz = vzLHa(ma, mLH, vzL, vza)\n",
    "    Ax = Ax1(R0, xL, xa)\n",
    "    Ay = Ay1(R0, yL, ya)\n",
    "    Az = Az1(r0, zL, za)\n",
    "    A  = A1(Ax, Ay, Az)\n",
    "    Bx = Bx1(mL, mH, ma, R0, xL, xa)\n",
    "    By = By1(mL, mH, ma, R0, xL, xa)\n",
    "    Bz = Bz1(mL, mH, ma, R0, xL, xa)\n",
    "    B  = B1(Bx, By, Bz)\n",
    "    Cx = Cx1(mL, mH, R0, ma, xL, xa)\n",
    "    Cy = Cy1(mL, mH, R0, ma, yL, ya)\n",
    "    Cz = Cz1(mL, mH, R0, ma, zL, za)\n",
    "    C  = C1(Cx, Cy, Cz)\n",
    "    print(zL, mL, R0,...)\n",
    " "
   ]
  },
  {
   "cell_type": "code",
   "execution_count": 194,
   "metadata": {
    "collapsed": true
   },
   "outputs": [],
   "source": [
    "\"\"\"We now want to check if the alpha particle is still moving by \n",
    "writing down a statement of total momentum along the x, y and z\n",
    "axes for the alpha particle\"\"\"\n",
    "\n",
    "def momentuma(pxa, pya, pza):\n",
    "    Tp = pxa + pya + pza\n",
    "    return Tp"
   ]
  },
  {
   "cell_type": "code",
   "execution_count": 198,
   "metadata": {
    "collapsed": true
   },
   "outputs": [],
   "source": [
    "\"\"\"For the following two functions we shall use the definition of the \n",
    "distance between two points from Euclidean geometry in order to figure out\n",
    "the distances between the alpha particle and the light and heavy fragments.\"\"\"\n",
    "def getdistanceL(xa, ya, za, xL, yL, zL):\n",
    "    from math import pow\n",
    "    distance=pow((pow(xa-xL, 2)+pow(ya-yL, 2)+pow(za-zL, 2)), 0.5)\n",
    "    return distance"
   ]
  },
  {
   "cell_type": "code",
   "execution_count": 199,
   "metadata": {
    "collapsed": true
   },
   "outputs": [],
   "source": [
    "def getdistanceH(xa, ya, za, xH, yH, zH):\n",
    "    from math import pow\n",
    "    distance=pow((pow(xa-xH, 2)+pow(ya-yH, 2)+pow(za-zH, 2)), 0.5)\n",
    "    return distance"
   ]
  },
  {
   "cell_type": "code",
   "execution_count": null,
   "metadata": {
    "collapsed": true
   },
   "outputs": [],
   "source": [
    "\"\"\"In this interlude we now seek to asess our results,\n",
    "aka, figure out if the alpha particle is within 0.8 of\n",
    "the radius distance from either fission fragment\"\"\"\n",
    "\n",
    "def results(xa, ya, za, xL, yL, zL, xH, yH, zH, pxa, pya, pza):\n",
    "    \n",
    "    \"\"\"Numerical solver to have two distinct \n",
    "    paths. If alpha particle passes within \n",
    "    0.8 of radius of either H or L fragment, \n",
    "    trajectory is to be wiped out and simulation \n",
    "    starts over. On the other hand for an alpha \n",
    "    particle is still moving the simulator is to keep \n",
    "    solving the equation of motion for alpha particle.\"\"\""
   ]
  },
  {
   "cell_type": "code",
   "execution_count": null,
   "metadata": {
    "collapsed": true
   },
   "outputs": [],
   "source": [
    "\"\"\"Let us now see how we would write our results into files\"\"\"\n",
    "\n",
    "\n",
    "\n"
   ]
  },
  {
   "cell_type": "code",
   "execution_count": null,
   "metadata": {
    "collapsed": true
   },
   "outputs": [],
   "source": []
  },
  {
   "cell_type": "code",
   "execution_count": null,
   "metadata": {
    "collapsed": true
   },
   "outputs": [],
   "source": []
  },
  {
   "cell_type": "code",
   "execution_count": null,
   "metadata": {
    "collapsed": true
   },
   "outputs": [],
   "source": []
  }
 ],
 "metadata": {
  "kernelspec": {
   "display_name": "Python 3",
   "language": "python",
   "name": "python3"
  },
  "language_info": {
   "codemirror_mode": {
    "name": "ipython",
    "version": 3
   },
   "file_extension": ".py",
   "mimetype": "text/x-python",
   "name": "python",
   "nbconvert_exporter": "python",
   "pygments_lexer": "ipython3",
   "version": "3.5.3"
  }
 },
 "nbformat": 4,
 "nbformat_minor": 2
}
